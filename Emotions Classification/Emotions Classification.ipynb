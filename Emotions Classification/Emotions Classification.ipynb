{
  "nbformat": 4,
  "nbformat_minor": 0,
  "metadata": {
    "colab": {
      "name": "homework5.ipynb",
      "provenance": []
    },
    "kernelspec": {
      "name": "python3",
      "display_name": "Python 3"
    },
    "language_info": {
      "name": "python"
    }
  },
  "cells": [
    {
      "cell_type": "code",
      "metadata": {
        "colab": {
          "base_uri": "https://localhost:8080/"
        },
        "id": "UJf1hBR1GizX",
        "outputId": "96c1812c-4ac3-4aa0-b380-909eef3bf673"
      },
      "source": [
        "from google.colab import drive\n",
        "drive.mount('/content/drive')\n",
        "cd='/content/drive/My Drive/Colab Notebooks/'\n",
        "%cd /content/drive/My Drive/Colab Notebooks/\n",
        "import os, cv2"
      ],
      "execution_count": 1,
      "outputs": [
        {
          "output_type": "stream",
          "name": "stdout",
          "text": [
            "Mounted at /content/drive\n",
            "/content/drive/My Drive/Colab Notebooks\n"
          ]
        }
      ]
    },
    {
      "cell_type": "code",
      "metadata": {
        "id": "SClz7pVnG-CK"
      },
      "source": [
        "# Keras Models\n",
        "import keras \n",
        "from keras.models import Sequential\n",
        "from keras.layers import Dense, Dropout, Flatten\n",
        "\n",
        "# Aditional Libs\n",
        "import numpy as np\n",
        "import matplotlib.pyplot as plt\n",
        "from sklearn.model_selection import train_test_split\n",
        "from tensorflow.keras.utils import to_categorical\n",
        "from tensorflow.keras.optimizers import SGD"
      ],
      "execution_count": 2,
      "outputs": []
    },
    {
      "cell_type": "code",
      "metadata": {
        "colab": {
          "base_uri": "https://localhost:8080/"
        },
        "id": "XxwpuoTet9Ht",
        "outputId": "48544dca-3a22-4313-fc1f-9bb218621a35"
      },
      "source": [
        "data_path = '/content/drive/MyDrive/Colab Notebooks/CK+48'\n",
        "data_dir_list = os.listdir(data_path)\n",
        "img_data_list=[]\n",
        "labels_list=[]\n",
        "class_value=0 #i is the label \n",
        "for dataset in data_dir_list:\n",
        "    img_list=os.listdir(data_path+'/'+ dataset)\n",
        "    print ('Loaded the images of dataset-'+'{}\\n'.format(dataset))\n",
        "    for img in img_list:\n",
        "        # Using 0 to read image in grayscale mode\n",
        "        input_img=cv2.imread(data_path + '/'+ dataset + '/'+ img, 0 )\n",
        "        #input_img=cv2.cvtColor(input_img, cv2.COLOR_BGR2GRAY)\n",
        "        #input_img_resize=cv2.resize(input_img,(48,48))\n",
        "        img_data_list.append(input_img)\n",
        "        labels_list.append(class_value)\n",
        "    class_value+=1\n",
        "        \n",
        "img_data = np.array(img_data_list)\n",
        "img_data = img_data.astype('float32')\n",
        "img_data = img_data/np.amax(img_data)#normalize data by dividing each pixel value by the maximum\n",
        "img_data.shape #The dataset contains 750 images, each image is a 2D shape 48x48"
      ],
      "execution_count": 3,
      "outputs": [
        {
          "output_type": "stream",
          "name": "stdout",
          "text": [
            "Loaded the images of dataset-anger\n",
            "\n",
            "Loaded the images of dataset-surprise\n",
            "\n",
            "Loaded the images of dataset-happy\n",
            "\n",
            "Loaded the images of dataset-sadness\n",
            "\n",
            "Loaded the images of dataset-fear\n",
            "\n"
          ]
        },
        {
          "output_type": "execute_result",
          "data": {
            "text/plain": [
              "(750, 48, 48)"
            ]
          },
          "metadata": {},
          "execution_count": 3
        }
      ]
    },
    {
      "cell_type": "code",
      "metadata": {
        "colab": {
          "base_uri": "https://localhost:8080/"
        },
        "id": "Lu6mEyQv6a2I",
        "outputId": "97111034-c00e-439e-d471-60f890239bc9"
      },
      "source": [
        "labels = np.array(labels_list)\n",
        "labels = labels.astype('int32')\n",
        "print(labels.shape)"
      ],
      "execution_count": 4,
      "outputs": [
        {
          "output_type": "stream",
          "name": "stdout",
          "text": [
            "(750,)\n"
          ]
        }
      ]
    },
    {
      "cell_type": "code",
      "metadata": {
        "id": "Of6uiOnK6iKS"
      },
      "source": [
        "x_train = img_data[:720]\n",
        "x_test = img_data[721:]\n",
        "y_train = labels[:720]\n",
        "y_test = labels[721:]\n",
        "x_train, x_valid, y_train, y_valid = train_test_split(x_train, y_train, test_size=0.33)\n",
        "x_train = x_train.reshape(len(x_train),48,48)\n",
        "x_valid = x_valid.reshape(len(x_valid),48,48)\n",
        "y_train = to_categorical(y_train, 5)\n",
        "y_valid = to_categorical(y_valid, 5)\n",
        "y_test = to_categorical(y_test, 5)"
      ],
      "execution_count": 51,
      "outputs": []
    },
    {
      "cell_type": "code",
      "metadata": {
        "colab": {
          "base_uri": "https://localhost:8080/"
        },
        "id": "QeZ4cbTs9p4b",
        "outputId": "5787f94f-7447-450d-bcdb-ebe26a77f156"
      },
      "source": [
        "# Model is the MLP network that we want to create\n",
        "model = Sequential()\n",
        "model.add(Flatten(input_shape=(48,48)))\n",
        "model.add(Dense(256, activation='tanh', kernel_initializer = 'he_normal'))\n",
        "model.add(Dropout(0.4))\n",
        "model.add(Dense(128, activation='tanh', kernel_initializer = 'he_normal'))\n",
        "model.add(Dropout(0.4))\n",
        "model.add(Dense(100, activation='tanh', kernel_initializer = 'he_normal'))\n",
        "model.add(Dropout(0.4))\n",
        "model.add(Dense(5, activation='softmax', kernel_initializer = 'he_normal'))\n",
        "model.summary()"
      ],
      "execution_count": 52,
      "outputs": [
        {
          "output_type": "stream",
          "name": "stdout",
          "text": [
            "Model: \"sequential_13\"\n",
            "_________________________________________________________________\n",
            "Layer (type)                 Output Shape              Param #   \n",
            "=================================================================\n",
            "flatten_13 (Flatten)         (None, 2304)              0         \n",
            "_________________________________________________________________\n",
            "dense_58 (Dense)             (None, 256)               590080    \n",
            "_________________________________________________________________\n",
            "dropout_45 (Dropout)         (None, 256)               0         \n",
            "_________________________________________________________________\n",
            "dense_59 (Dense)             (None, 128)               32896     \n",
            "_________________________________________________________________\n",
            "dropout_46 (Dropout)         (None, 128)               0         \n",
            "_________________________________________________________________\n",
            "dense_60 (Dense)             (None, 100)               12900     \n",
            "_________________________________________________________________\n",
            "dropout_47 (Dropout)         (None, 100)               0         \n",
            "_________________________________________________________________\n",
            "dense_61 (Dense)             (None, 5)                 505       \n",
            "=================================================================\n",
            "Total params: 636,381\n",
            "Trainable params: 636,381\n",
            "Non-trainable params: 0\n",
            "_________________________________________________________________\n"
          ]
        }
      ]
    },
    {
      "cell_type": "code",
      "metadata": {
        "colab": {
          "base_uri": "https://localhost:8080/"
        },
        "id": "j7fGOPjk-Zyx",
        "outputId": "59829cfd-e6a2-4dd2-f6fd-21b15fc5fd05"
      },
      "source": [
        "optimizer = SGD(learning_rate=0.01, momentum=0.975, decay=2e-06, nesterov=True)\n",
        "model.compile(loss='categorical_crossentropy',\n",
        "\t\t\t  optimizer=optimizer,\n",
        "\t\t\t  metrics=['accuracy'])\n",
        "\n",
        "history = model.fit(x_train, y_train,\n",
        "\t\t\t\t\tbatch_size=64,\n",
        "\t\t\t\t\tepochs=100,\n",
        "\t\t\t\t\tverbose=2,\n",
        "\t\t\t\t\tvalidation_data=(x_valid, y_valid))"
      ],
      "execution_count": 53,
      "outputs": [
        {
          "output_type": "stream",
          "name": "stdout",
          "text": [
            "Epoch 1/100\n",
            "8/8 - 1s - loss: 2.0260 - accuracy: 0.2988 - val_loss: 1.3011 - val_accuracy: 0.3866\n",
            "Epoch 2/100\n",
            "8/8 - 0s - loss: 1.7483 - accuracy: 0.3008 - val_loss: 1.3165 - val_accuracy: 0.3824\n",
            "Epoch 3/100\n",
            "8/8 - 0s - loss: 1.5895 - accuracy: 0.3838 - val_loss: 1.2088 - val_accuracy: 0.4664\n",
            "Epoch 4/100\n",
            "8/8 - 0s - loss: 1.3811 - accuracy: 0.4564 - val_loss: 1.0298 - val_accuracy: 0.6176\n",
            "Epoch 5/100\n",
            "8/8 - 0s - loss: 1.3089 - accuracy: 0.5021 - val_loss: 0.9541 - val_accuracy: 0.6261\n",
            "Epoch 6/100\n",
            "8/8 - 0s - loss: 1.1179 - accuracy: 0.5996 - val_loss: 0.8605 - val_accuracy: 0.6471\n",
            "Epoch 7/100\n",
            "8/8 - 0s - loss: 0.9597 - accuracy: 0.6473 - val_loss: 0.7679 - val_accuracy: 0.7017\n",
            "Epoch 8/100\n",
            "8/8 - 0s - loss: 0.8980 - accuracy: 0.6494 - val_loss: 0.6926 - val_accuracy: 0.7437\n",
            "Epoch 9/100\n",
            "8/8 - 0s - loss: 0.8723 - accuracy: 0.6556 - val_loss: 0.6993 - val_accuracy: 0.7269\n",
            "Epoch 10/100\n",
            "8/8 - 0s - loss: 0.8163 - accuracy: 0.7033 - val_loss: 0.5609 - val_accuracy: 0.7983\n",
            "Epoch 11/100\n",
            "8/8 - 0s - loss: 0.7469 - accuracy: 0.7158 - val_loss: 0.7005 - val_accuracy: 0.7437\n",
            "Epoch 12/100\n",
            "8/8 - 0s - loss: 0.7682 - accuracy: 0.7116 - val_loss: 0.5303 - val_accuracy: 0.8109\n",
            "Epoch 13/100\n",
            "8/8 - 0s - loss: 0.6463 - accuracy: 0.7344 - val_loss: 0.5458 - val_accuracy: 0.7773\n",
            "Epoch 14/100\n",
            "8/8 - 0s - loss: 0.8095 - accuracy: 0.7054 - val_loss: 0.4766 - val_accuracy: 0.7815\n",
            "Epoch 15/100\n",
            "8/8 - 0s - loss: 0.6406 - accuracy: 0.7531 - val_loss: 0.4982 - val_accuracy: 0.7815\n",
            "Epoch 16/100\n",
            "8/8 - 0s - loss: 0.6899 - accuracy: 0.7407 - val_loss: 0.4266 - val_accuracy: 0.7983\n",
            "Epoch 17/100\n",
            "8/8 - 0s - loss: 0.5908 - accuracy: 0.7822 - val_loss: 0.4909 - val_accuracy: 0.8319\n",
            "Epoch 18/100\n",
            "8/8 - 0s - loss: 0.6311 - accuracy: 0.7718 - val_loss: 0.4521 - val_accuracy: 0.8109\n",
            "Epoch 19/100\n",
            "8/8 - 0s - loss: 0.5812 - accuracy: 0.7801 - val_loss: 0.5762 - val_accuracy: 0.8151\n",
            "Epoch 20/100\n",
            "8/8 - 0s - loss: 0.5606 - accuracy: 0.7905 - val_loss: 0.3904 - val_accuracy: 0.8235\n",
            "Epoch 21/100\n",
            "8/8 - 0s - loss: 0.5686 - accuracy: 0.8008 - val_loss: 0.3805 - val_accuracy: 0.8445\n",
            "Epoch 22/100\n",
            "8/8 - 0s - loss: 0.5556 - accuracy: 0.8091 - val_loss: 0.4331 - val_accuracy: 0.8193\n",
            "Epoch 23/100\n",
            "8/8 - 0s - loss: 0.5891 - accuracy: 0.7863 - val_loss: 0.3514 - val_accuracy: 0.8529\n",
            "Epoch 24/100\n",
            "8/8 - 0s - loss: 0.5509 - accuracy: 0.8008 - val_loss: 0.3626 - val_accuracy: 0.8403\n",
            "Epoch 25/100\n",
            "8/8 - 0s - loss: 0.5368 - accuracy: 0.8008 - val_loss: 0.3843 - val_accuracy: 0.8403\n",
            "Epoch 26/100\n",
            "8/8 - 0s - loss: 0.4971 - accuracy: 0.7988 - val_loss: 0.3480 - val_accuracy: 0.8613\n",
            "Epoch 27/100\n",
            "8/8 - 0s - loss: 0.4702 - accuracy: 0.8216 - val_loss: 0.3278 - val_accuracy: 0.8655\n",
            "Epoch 28/100\n",
            "8/8 - 0s - loss: 0.4835 - accuracy: 0.8237 - val_loss: 0.3767 - val_accuracy: 0.8529\n",
            "Epoch 29/100\n",
            "8/8 - 0s - loss: 0.4625 - accuracy: 0.8237 - val_loss: 0.3073 - val_accuracy: 0.8824\n",
            "Epoch 30/100\n",
            "8/8 - 0s - loss: 0.4658 - accuracy: 0.8237 - val_loss: 0.3184 - val_accuracy: 0.8697\n",
            "Epoch 31/100\n",
            "8/8 - 0s - loss: 0.4694 - accuracy: 0.8299 - val_loss: 0.3887 - val_accuracy: 0.8571\n",
            "Epoch 32/100\n",
            "8/8 - 0s - loss: 0.4965 - accuracy: 0.8278 - val_loss: 0.3208 - val_accuracy: 0.8739\n",
            "Epoch 33/100\n",
            "8/8 - 0s - loss: 0.4111 - accuracy: 0.8527 - val_loss: 0.3021 - val_accuracy: 0.8739\n",
            "Epoch 34/100\n",
            "8/8 - 0s - loss: 0.4255 - accuracy: 0.8423 - val_loss: 0.3049 - val_accuracy: 0.8950\n",
            "Epoch 35/100\n",
            "8/8 - 0s - loss: 0.4730 - accuracy: 0.8112 - val_loss: 0.4220 - val_accuracy: 0.8613\n",
            "Epoch 36/100\n",
            "8/8 - 0s - loss: 0.4716 - accuracy: 0.8278 - val_loss: 0.3029 - val_accuracy: 0.8739\n",
            "Epoch 37/100\n",
            "8/8 - 0s - loss: 0.4186 - accuracy: 0.8423 - val_loss: 0.3095 - val_accuracy: 0.8697\n",
            "Epoch 38/100\n",
            "8/8 - 0s - loss: 0.4234 - accuracy: 0.8361 - val_loss: 0.3166 - val_accuracy: 0.8992\n",
            "Epoch 39/100\n",
            "8/8 - 0s - loss: 0.3858 - accuracy: 0.8568 - val_loss: 0.3379 - val_accuracy: 0.8866\n",
            "Epoch 40/100\n",
            "8/8 - 0s - loss: 0.4579 - accuracy: 0.8444 - val_loss: 0.2677 - val_accuracy: 0.9160\n",
            "Epoch 41/100\n",
            "8/8 - 0s - loss: 0.3865 - accuracy: 0.8485 - val_loss: 0.2935 - val_accuracy: 0.9118\n",
            "Epoch 42/100\n",
            "8/8 - 0s - loss: 0.3563 - accuracy: 0.8714 - val_loss: 0.2797 - val_accuracy: 0.9118\n",
            "Epoch 43/100\n",
            "8/8 - 0s - loss: 0.4200 - accuracy: 0.8340 - val_loss: 0.4109 - val_accuracy: 0.8361\n",
            "Epoch 44/100\n",
            "8/8 - 0s - loss: 0.4784 - accuracy: 0.8174 - val_loss: 0.4027 - val_accuracy: 0.8655\n",
            "Epoch 45/100\n",
            "8/8 - 0s - loss: 0.4069 - accuracy: 0.8610 - val_loss: 0.3553 - val_accuracy: 0.8571\n",
            "Epoch 46/100\n",
            "8/8 - 0s - loss: 0.4882 - accuracy: 0.8050 - val_loss: 0.3404 - val_accuracy: 0.9034\n",
            "Epoch 47/100\n",
            "8/8 - 0s - loss: 0.3888 - accuracy: 0.8423 - val_loss: 0.3220 - val_accuracy: 0.8739\n",
            "Epoch 48/100\n",
            "8/8 - 0s - loss: 0.3946 - accuracy: 0.8465 - val_loss: 0.3466 - val_accuracy: 0.8571\n",
            "Epoch 49/100\n",
            "8/8 - 0s - loss: 0.3545 - accuracy: 0.8755 - val_loss: 0.3936 - val_accuracy: 0.8193\n",
            "Epoch 50/100\n",
            "8/8 - 0s - loss: 0.3635 - accuracy: 0.8548 - val_loss: 0.2535 - val_accuracy: 0.9328\n",
            "Epoch 51/100\n",
            "8/8 - 0s - loss: 0.4259 - accuracy: 0.8402 - val_loss: 0.3511 - val_accuracy: 0.8571\n",
            "Epoch 52/100\n",
            "8/8 - 0s - loss: 0.3575 - accuracy: 0.8589 - val_loss: 0.2509 - val_accuracy: 0.9286\n",
            "Epoch 53/100\n",
            "8/8 - 0s - loss: 0.3687 - accuracy: 0.8672 - val_loss: 0.2765 - val_accuracy: 0.9118\n",
            "Epoch 54/100\n",
            "8/8 - 0s - loss: 0.3209 - accuracy: 0.8755 - val_loss: 0.3201 - val_accuracy: 0.8866\n",
            "Epoch 55/100\n",
            "8/8 - 0s - loss: 0.3768 - accuracy: 0.8568 - val_loss: 0.2944 - val_accuracy: 0.8992\n",
            "Epoch 56/100\n",
            "8/8 - 0s - loss: 0.3539 - accuracy: 0.8527 - val_loss: 0.2666 - val_accuracy: 0.9076\n",
            "Epoch 57/100\n",
            "8/8 - 0s - loss: 0.4082 - accuracy: 0.8465 - val_loss: 0.2626 - val_accuracy: 0.9118\n",
            "Epoch 58/100\n",
            "8/8 - 0s - loss: 0.3695 - accuracy: 0.8548 - val_loss: 0.2584 - val_accuracy: 0.9202\n",
            "Epoch 59/100\n",
            "8/8 - 0s - loss: 0.3766 - accuracy: 0.8776 - val_loss: 0.2316 - val_accuracy: 0.9160\n",
            "Epoch 60/100\n",
            "8/8 - 0s - loss: 0.5018 - accuracy: 0.8112 - val_loss: 0.2494 - val_accuracy: 0.9160\n",
            "Epoch 61/100\n",
            "8/8 - 0s - loss: 0.4380 - accuracy: 0.8485 - val_loss: 0.2405 - val_accuracy: 0.9076\n",
            "Epoch 62/100\n",
            "8/8 - 0s - loss: 0.3851 - accuracy: 0.8548 - val_loss: 0.2622 - val_accuracy: 0.9202\n",
            "Epoch 63/100\n",
            "8/8 - 0s - loss: 0.3958 - accuracy: 0.8714 - val_loss: 0.2204 - val_accuracy: 0.9118\n",
            "Epoch 64/100\n",
            "8/8 - 0s - loss: 0.4147 - accuracy: 0.8320 - val_loss: 0.3539 - val_accuracy: 0.8487\n",
            "Epoch 65/100\n",
            "8/8 - 0s - loss: 0.4360 - accuracy: 0.8465 - val_loss: 0.2566 - val_accuracy: 0.9118\n",
            "Epoch 66/100\n",
            "8/8 - 0s - loss: 0.3926 - accuracy: 0.8506 - val_loss: 0.2561 - val_accuracy: 0.9286\n",
            "Epoch 67/100\n",
            "8/8 - 0s - loss: 0.3354 - accuracy: 0.8776 - val_loss: 0.2263 - val_accuracy: 0.9370\n",
            "Epoch 68/100\n",
            "8/8 - 0s - loss: 0.4774 - accuracy: 0.8340 - val_loss: 0.3090 - val_accuracy: 0.8866\n",
            "Epoch 69/100\n",
            "8/8 - 0s - loss: 0.3313 - accuracy: 0.8838 - val_loss: 0.3076 - val_accuracy: 0.8992\n",
            "Epoch 70/100\n",
            "8/8 - 0s - loss: 0.3403 - accuracy: 0.8921 - val_loss: 0.2522 - val_accuracy: 0.9244\n",
            "Epoch 71/100\n",
            "8/8 - 0s - loss: 0.3438 - accuracy: 0.8797 - val_loss: 0.2908 - val_accuracy: 0.8655\n",
            "Epoch 72/100\n",
            "8/8 - 0s - loss: 0.3523 - accuracy: 0.8693 - val_loss: 0.2946 - val_accuracy: 0.9202\n",
            "Epoch 73/100\n",
            "8/8 - 0s - loss: 0.2979 - accuracy: 0.8859 - val_loss: 0.2385 - val_accuracy: 0.9160\n",
            "Epoch 74/100\n",
            "8/8 - 0s - loss: 0.2909 - accuracy: 0.8900 - val_loss: 0.2698 - val_accuracy: 0.9076\n",
            "Epoch 75/100\n",
            "8/8 - 0s - loss: 0.3445 - accuracy: 0.8651 - val_loss: 0.3668 - val_accuracy: 0.8908\n",
            "Epoch 76/100\n",
            "8/8 - 0s - loss: 0.3471 - accuracy: 0.8755 - val_loss: 0.2924 - val_accuracy: 0.8739\n",
            "Epoch 77/100\n",
            "8/8 - 0s - loss: 0.3671 - accuracy: 0.8610 - val_loss: 0.2129 - val_accuracy: 0.9034\n",
            "Epoch 78/100\n",
            "8/8 - 0s - loss: 0.3659 - accuracy: 0.8610 - val_loss: 0.2964 - val_accuracy: 0.8992\n",
            "Epoch 79/100\n",
            "8/8 - 0s - loss: 0.4081 - accuracy: 0.8465 - val_loss: 0.2732 - val_accuracy: 0.9160\n",
            "Epoch 80/100\n",
            "8/8 - 0s - loss: 0.3692 - accuracy: 0.8755 - val_loss: 0.2219 - val_accuracy: 0.9076\n",
            "Epoch 81/100\n",
            "8/8 - 0s - loss: 0.3961 - accuracy: 0.8672 - val_loss: 0.2693 - val_accuracy: 0.9076\n",
            "Epoch 82/100\n",
            "8/8 - 0s - loss: 0.3485 - accuracy: 0.8548 - val_loss: 0.2289 - val_accuracy: 0.9370\n",
            "Epoch 83/100\n",
            "8/8 - 0s - loss: 0.3881 - accuracy: 0.8382 - val_loss: 0.2273 - val_accuracy: 0.9076\n",
            "Epoch 84/100\n",
            "8/8 - 0s - loss: 0.3345 - accuracy: 0.8651 - val_loss: 0.3140 - val_accuracy: 0.8571\n",
            "Epoch 85/100\n",
            "8/8 - 0s - loss: 0.3542 - accuracy: 0.8610 - val_loss: 0.2133 - val_accuracy: 0.9286\n",
            "Epoch 86/100\n",
            "8/8 - 0s - loss: 0.3211 - accuracy: 0.8693 - val_loss: 0.1809 - val_accuracy: 0.9454\n",
            "Epoch 87/100\n",
            "8/8 - 0s - loss: 0.2954 - accuracy: 0.8942 - val_loss: 0.2015 - val_accuracy: 0.9328\n",
            "Epoch 88/100\n",
            "8/8 - 0s - loss: 0.3247 - accuracy: 0.8755 - val_loss: 0.2457 - val_accuracy: 0.9412\n",
            "Epoch 89/100\n",
            "8/8 - 0s - loss: 0.3116 - accuracy: 0.8838 - val_loss: 0.3117 - val_accuracy: 0.8992\n",
            "Epoch 90/100\n",
            "8/8 - 0s - loss: 0.3346 - accuracy: 0.8734 - val_loss: 0.2133 - val_accuracy: 0.9370\n",
            "Epoch 91/100\n",
            "8/8 - 0s - loss: 0.2862 - accuracy: 0.9025 - val_loss: 0.2055 - val_accuracy: 0.9454\n",
            "Epoch 92/100\n",
            "8/8 - 0s - loss: 0.2565 - accuracy: 0.8963 - val_loss: 0.1961 - val_accuracy: 0.9538\n",
            "Epoch 93/100\n",
            "8/8 - 0s - loss: 0.3326 - accuracy: 0.8734 - val_loss: 0.2044 - val_accuracy: 0.9370\n",
            "Epoch 94/100\n",
            "8/8 - 0s - loss: 0.3337 - accuracy: 0.8734 - val_loss: 0.2589 - val_accuracy: 0.8992\n",
            "Epoch 95/100\n",
            "8/8 - 0s - loss: 0.3054 - accuracy: 0.8776 - val_loss: 0.2219 - val_accuracy: 0.9286\n",
            "Epoch 96/100\n",
            "8/8 - 0s - loss: 0.3097 - accuracy: 0.8921 - val_loss: 0.1868 - val_accuracy: 0.9496\n",
            "Epoch 97/100\n",
            "8/8 - 0s - loss: 0.3020 - accuracy: 0.8880 - val_loss: 0.2107 - val_accuracy: 0.9286\n",
            "Epoch 98/100\n",
            "8/8 - 0s - loss: 0.3912 - accuracy: 0.8672 - val_loss: 0.3081 - val_accuracy: 0.8950\n",
            "Epoch 99/100\n",
            "8/8 - 0s - loss: 0.3500 - accuracy: 0.8776 - val_loss: 0.1912 - val_accuracy: 0.9328\n",
            "Epoch 100/100\n",
            "8/8 - 0s - loss: 0.2965 - accuracy: 0.8921 - val_loss: 0.2440 - val_accuracy: 0.9328\n"
          ]
        }
      ]
    },
    {
      "cell_type": "code",
      "metadata": {
        "colab": {
          "base_uri": "https://localhost:8080/"
        },
        "id": "RdfWGKsM_plr",
        "outputId": "58f173ed-5a2c-4ee2-e460-7a7dd04ac863"
      },
      "source": [
        "score = model.evaluate(x_test, y_test, verbose=0)\n",
        "print('Test loss:', score[0])\n",
        "print('Test top 1 accuracy:', score[1])"
      ],
      "execution_count": 54,
      "outputs": [
        {
          "output_type": "stream",
          "name": "stdout",
          "text": [
            "Test loss: 0.6188495755195618\n",
            "Test top 1 accuracy: 0.7931034564971924\n"
          ]
        }
      ]
    }
  ]
}